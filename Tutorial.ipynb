{
 "cells": [
  {
   "cell_type": "markdown",
   "metadata": {},
   "source": [
    "# Introduction\n",
    "\n",
    "This is a brief introduction to using the refractivesqlite package. \n",
    "\n",
    "This package allows to create a SQLite database from the database refractiveindex.info, interpolate the refractive indices expressed as formulas, searching, and exporting materials to CSV."
   ]
  },
  {
   "cell_type": "markdown",
   "metadata": {},
   "source": [
    "# Create the database\n",
    "\n",
    "Note: once created, you don't need to create the DB again!\n",
    "In both methods you can specify the interpolation_points for the case when *n* is expressed as a formula and *k* is not defined."
   ]
  },
  {
   "cell_type": "markdown",
   "metadata": {},
   "source": [
    "## From url"
   ]
  },
  {
   "cell_type": "code",
   "execution_count": null,
   "metadata": {
    "collapsed": false
   },
   "outputs": [],
   "source": [
    "from refractivesqlite import dboperations as DB\n",
    "\n",
    "dbpath = \"refractive.db\"\n",
    "db = DB.Database(dbpath)\n",
    "db.create_database_from_url()"
   ]
  },
  {
   "cell_type": "markdown",
   "metadata": {},
   "source": [
    "## Check URL version"
   ]
  },
  {
   "cell_type": "code",
   "execution_count": null,
   "metadata": {
    "collapsed": false
   },
   "outputs": [],
   "source": [
    "from refractivesqlite import dboperations as DB\n",
    "\n",
    "dbpath = \"refractive.db\"\n",
    "db = DB.Database(dbpath)\n",
    "db.check_url_version()"
   ]
  },
  {
   "cell_type": "markdown",
   "metadata": {},
   "source": [
    "## Load a previous version\n",
    "(For example, version 2015-07-05)"
   ]
  },
  {
   "cell_type": "code",
   "execution_count": null,
   "metadata": {
    "collapsed": false
   },
   "outputs": [],
   "source": [
    "from refractivesqlite import dboperations as DB\n",
    "\n",
    "dbpath = \"refractive.db\"\n",
    "db = DB.Database(dbpath)\n",
    "db.create_database_from_url(riiurl=\"http://refractiveindex.info/download/database/rii-database-2015-07-05.zip\")"
   ]
  },
  {
   "cell_type": "markdown",
   "metadata": {},
   "source": [
    "## From local yml folder"
   ]
  },
  {
   "cell_type": "code",
   "execution_count": null,
   "metadata": {
    "collapsed": false
   },
   "outputs": [],
   "source": [
    "from refractivesqlite import dboperations as DB\n",
    "\n",
    "dbpath = \"refractive.db\"\n",
    "ymlpath = \"database\"\n",
    "db = DB.Database(dbpath)\n",
    "db.create_database_from_folder(ymlpath,interpolation_points=200)"
   ]
  },
  {
   "cell_type": "markdown",
   "metadata": {},
   "source": [
    "# Load database"
   ]
  },
  {
   "cell_type": "code",
   "execution_count": 4,
   "metadata": {
    "collapsed": false
   },
   "outputs": [
    {
     "name": "stdout",
     "output_type": "stream",
     "text": [
      "Database file found at refractive.db\n"
     ]
    }
   ],
   "source": [
    "from refractivesqlite import dboperations as DB\n",
    "\n",
    "dbpath = \"refractive.db\"\n",
    "db = DB.Database(dbpath)"
   ]
  },
  {
   "cell_type": "markdown",
   "metadata": {},
   "source": [
    "# Searches"
   ]
  },
  {
   "cell_type": "markdown",
   "metadata": {},
   "source": [
    "# List all pages"
   ]
  },
  {
   "cell_type": "code",
   "execution_count": null,
   "metadata": {
    "collapsed": false
   },
   "outputs": [],
   "source": [
    "db.search_pages()"
   ]
  },
  {
   "cell_type": "markdown",
   "metadata": {},
   "source": [
    "## Search pages by term"
   ]
  },
  {
   "cell_type": "code",
   "execution_count": null,
   "metadata": {
    "collapsed": false
   },
   "outputs": [],
   "source": [
    "db.search_pages(\"otanicar\")"
   ]
  },
  {
   "cell_type": "markdown",
   "metadata": {},
   "source": [
    "## Search pages by exact term"
   ]
  },
  {
   "cell_type": "code",
   "execution_count": null,
   "metadata": {
    "collapsed": false
   },
   "outputs": [],
   "source": [
    "db.search_pages(\"au\",exact=True)"
   ]
  },
  {
   "cell_type": "markdown",
   "metadata": {},
   "source": [
    "## Search by PageId"
   ]
  },
  {
   "cell_type": "code",
   "execution_count": null,
   "metadata": {
    "collapsed": false
   },
   "outputs": [],
   "source": [
    "db.search_id(1542)"
   ]
  },
  {
   "cell_type": "markdown",
   "metadata": {},
   "source": [
    "## Search materials by *n* interval"
   ]
  },
  {
   "cell_type": "code",
   "execution_count": null,
   "metadata": {
    "collapsed": false
   },
   "outputs": [],
   "source": [
    "db.search_n(n=0.3,delta_n=.001)"
   ]
  },
  {
   "cell_type": "markdown",
   "metadata": {},
   "source": [
    "## Search materials by *k* interval"
   ]
  },
  {
   "cell_type": "code",
   "execution_count": null,
   "metadata": {
    "collapsed": false
   },
   "outputs": [],
   "source": [
    "db.search_k(k=0.3,delta_k=.001)"
   ]
  },
  {
   "cell_type": "markdown",
   "metadata": {},
   "source": [
    "## Search materials by *n,k* range"
   ]
  },
  {
   "cell_type": "code",
   "execution_count": null,
   "metadata": {
    "collapsed": false
   },
   "outputs": [],
   "source": [
    "db.search_nk(n=0.3, delta_n=0.1,k=0.3,delta_k=0.1)"
   ]
  },
  {
   "cell_type": "markdown",
   "metadata": {},
   "source": [
    "# Custom SQL search\n",
    "You can search for custom sql queries (at your own risk). The function prints the number of results, and returns a list with n-tuples ordered by the fields on the select statement."
   ]
  },
  {
   "cell_type": "code",
   "execution_count": null,
   "metadata": {
    "collapsed": false
   },
   "outputs": [],
   "source": [
    "db.search_custom('select * from pages where shelf=\"main\" and book=\"Ag\" and page LIKE \"%k%\"')"
   ]
  },
  {
   "cell_type": "code",
   "execution_count": null,
   "metadata": {
    "collapsed": false
   },
   "outputs": [],
   "source": [
    "db.search_custom('select wave,coeff from extcoeff where pageid = 1 and wave between 0.3 and 0.4')"
   ]
  },
  {
   "cell_type": "code",
   "execution_count": null,
   "metadata": {
    "collapsed": false
   },
   "outputs": [],
   "source": [
    "db.search_custom('select wave,refindex from refractiveindex where pageid = 1 and wave between 0.3 and 0.4')"
   ]
  },
  {
   "cell_type": "code",
   "execution_count": null,
   "metadata": {
    "collapsed": false
   },
   "outputs": [],
   "source": [
    "db.search_custom('''select p.filepath, r.wave,refindex,coeff \n",
    "                    from refractiveindex r inner join extcoeff e on r.pageid = e.pageid and r.wave = e.wave\n",
    "                    inner join pages p on r.pageid = p.pageid\n",
    "                    where r.wave = .301''')"
   ]
  },
  {
   "cell_type": "markdown",
   "metadata": {},
   "source": [
    "## *Be careful*: Get ALL CSVs"
   ]
  },
  {
   "cell_type": "code",
   "execution_count": null,
   "metadata": {
    "collapsed": false
   },
   "outputs": [],
   "source": [
    "db.get_material_csv_all(outputfolder=\"all\")"
   ]
  },
  {
   "cell_type": "markdown",
   "metadata": {},
   "source": [
    "# Interact with materials"
   ]
  },
  {
   "cell_type": "markdown",
   "metadata": {},
   "source": [
    "## Load material by Id"
   ]
  },
  {
   "cell_type": "code",
   "execution_count": 12,
   "metadata": {
    "collapsed": false
   },
   "outputs": [
    {
     "name": "stdout",
     "output_type": "stream",
     "text": [
      "Material other\\soot\\acetylene soot - Dalzell.yml loaded.\n"
     ]
    }
   ],
   "source": [
    "mat = db.get_material(1579)"
   ]
  },
  {
   "cell_type": "markdown",
   "metadata": {},
   "source": [
    "## Get material info"
   ]
  },
  {
   "cell_type": "code",
   "execution_count": 13,
   "metadata": {
    "collapsed": false
   },
   "outputs": [
    {
     "name": "stdout",
     "output_type": "stream",
     "text": [
      "OrderedDict([('pageid', 1579), ('shelf', '3d'), ('book', 'misc'), ('page', 'acetylene_soot'), ('filepath', 'other\\\\soot\\\\acetylene soot - Dalzell.yml'), ('hasrefractive', 1), ('hasextinction', 1), ('rangeMin', 0.4358), ('rangeMax', 10.0), ('points', 13)])\n"
     ]
    }
   ],
   "source": [
    "print(mat.get_page_info())"
   ]
  },
  {
   "cell_type": "markdown",
   "metadata": {},
   "source": [
    "## Get material *n*"
   ]
  },
  {
   "cell_type": "code",
   "execution_count": 14,
   "metadata": {
    "collapsed": false
   },
   "outputs": [
    {
     "name": "stdout",
     "output_type": "stream",
     "text": [
      "[[0.4358, 1.56], [0.45, 1.56], [0.55, 1.56], [0.65, 1.57], [0.8065, 1.57], [2.5, 2.31], [3.0, 2.62], [4.0, 2.74], [5.0, 2.88], [6.0, 3.22], [7.0, 3.49], [8.5, 4.22], [10.0, 4.8]]\n"
     ]
    }
   ],
   "source": [
    "import numpy as np\n",
    "n = mat.get_complete_refractive()\n",
    "print(n)"
   ]
  },
  {
   "cell_type": "markdown",
   "metadata": {},
   "source": [
    "## Get material *n* as numpy array"
   ]
  },
  {
   "cell_type": "code",
   "execution_count": 15,
   "metadata": {
    "collapsed": false
   },
   "outputs": [
    {
     "name": "stdout",
     "output_type": "stream",
     "text": [
      "[[  0.4358   1.56  ]\n",
      " [  0.45     1.56  ]\n",
      " [  0.55     1.56  ]\n",
      " [  0.65     1.57  ]\n",
      " [  0.8065   1.57  ]\n",
      " [  2.5      2.31  ]\n",
      " [  3.       2.62  ]\n",
      " [  4.       2.74  ]\n",
      " [  5.       2.88  ]\n",
      " [  6.       3.22  ]\n",
      " [  7.       3.49  ]\n",
      " [  8.5      4.22  ]\n",
      " [ 10.       4.8   ]]\n"
     ]
    }
   ],
   "source": [
    "import numpy as np\n",
    "n = np.array(mat.get_complete_refractive())\n",
    "print(n)"
   ]
  },
  {
   "cell_type": "markdown",
   "metadata": {},
   "source": [
    "## Get material *k*"
   ]
  },
  {
   "cell_type": "code",
   "execution_count": 16,
   "metadata": {
    "collapsed": false
   },
   "outputs": [
    {
     "name": "stdout",
     "output_type": "stream",
     "text": [
      "[[0.4358, 0.46], [0.45, 0.48], [0.55, 0.46], [0.65, 0.44], [0.8065, 0.46], [2.5, 1.26], [3.0, 1.62], [4.0, 1.64], [5.0, 1.82], [6.0, 1.84], [7.0, 2.17], [8.5, 3.46], [10.0, 3.82]]\n"
     ]
    }
   ],
   "source": [
    "k = mat.get_complete_extinction()\n",
    "print(k)"
   ]
  },
  {
   "cell_type": "markdown",
   "metadata": {},
   "source": [
    "## Get material *k*"
   ]
  },
  {
   "cell_type": "code",
   "execution_count": 17,
   "metadata": {
    "collapsed": false
   },
   "outputs": [
    {
     "name": "stdout",
     "output_type": "stream",
     "text": [
      "[[  0.4358   0.46  ]\n",
      " [  0.45     0.48  ]\n",
      " [  0.55     0.46  ]\n",
      " [  0.65     0.44  ]\n",
      " [  0.8065   0.46  ]\n",
      " [  2.5      1.26  ]\n",
      " [  3.       1.62  ]\n",
      " [  4.       1.64  ]\n",
      " [  5.       1.82  ]\n",
      " [  6.       1.84  ]\n",
      " [  7.       2.17  ]\n",
      " [  8.5      3.46  ]\n",
      " [ 10.       3.82  ]]\n"
     ]
    }
   ],
   "source": [
    "k = np.array(mat.get_complete_extinction())\n",
    "print(k)"
   ]
  },
  {
   "cell_type": "markdown",
   "metadata": {},
   "source": [
    "## Get n,k data as CSV"
   ]
  },
  {
   "cell_type": "code",
   "execution_count": 19,
   "metadata": {
    "collapsed": false
   },
   "outputs": [
    {
     "ename": "FileNotFoundError",
     "evalue": "[Errno 2] No such file or directory: ''",
     "output_type": "error",
     "traceback": [
      "\u001b[1;31m---------------------------------------------------------------------------\u001b[0m",
      "\u001b[1;31mFileNotFoundError\u001b[0m                         Traceback (most recent call last)",
      "\u001b[1;32m<ipython-input-19-8d16294f29bc>\u001b[0m in \u001b[0;36m<module>\u001b[1;34m()\u001b[0m\n\u001b[1;32m----> 1\u001b[1;33m \u001b[0mmat\u001b[0m\u001b[1;33m.\u001b[0m\u001b[0mto_csv\u001b[0m\u001b[1;33m(\u001b[0m\u001b[0moutput\u001b[0m\u001b[1;33m=\u001b[0m\u001b[1;34m\"\"\u001b[0m\u001b[1;33m)\u001b[0m\u001b[1;33m\u001b[0m\u001b[0m\n\u001b[0m",
      "\u001b[1;32mC:\\Users\\Hugo\\Dropbox\\DOCTORADO CICESE\\000 TESIS\\Software\\RefractiveIndex\\RefractiveIndex_SQLite-master\\refractivesqlite\\material.py\u001b[0m in \u001b[0;36mto_csv\u001b[1;34m(self, output)\u001b[0m\n\u001b[0;32m    141\u001b[0m         \u001b[1;32mif\u001b[0m \u001b[0mself\u001b[0m\u001b[1;33m.\u001b[0m\u001b[0mhas_refractive\u001b[0m\u001b[1;33m(\u001b[0m\u001b[1;33m)\u001b[0m \u001b[1;32mand\u001b[0m \u001b[0mself\u001b[0m\u001b[1;33m.\u001b[0m\u001b[0mhas_extinction\u001b[0m\u001b[1;33m(\u001b[0m\u001b[1;33m)\u001b[0m \u001b[1;32mand\u001b[0m \u001b[0mlen\u001b[0m\u001b[1;33m(\u001b[0m\u001b[0mrefr\u001b[0m\u001b[1;33m)\u001b[0m \u001b[1;33m==\u001b[0m \u001b[0mlen\u001b[0m\u001b[1;33m(\u001b[0m\u001b[0mext\u001b[0m\u001b[1;33m)\u001b[0m\u001b[1;33m:\u001b[0m\u001b[1;33m\u001b[0m\u001b[0m\n\u001b[0;32m    142\u001b[0m             \u001b[0mheader\u001b[0m \u001b[1;33m=\u001b[0m \u001b[1;34m\"wl,n,k\\n\"\u001b[0m\u001b[1;33m\u001b[0m\u001b[0m\n\u001b[1;32m--> 143\u001b[1;33m             \u001b[0moutput_f\u001b[0m \u001b[1;33m=\u001b[0m \u001b[0mopen\u001b[0m\u001b[1;33m(\u001b[0m\u001b[0moutput\u001b[0m\u001b[1;33m.\u001b[0m\u001b[0mreplace\u001b[0m\u001b[1;33m(\u001b[0m\u001b[1;34m\".csv\"\u001b[0m\u001b[1;33m,\u001b[0m\u001b[1;34m\"(nk).csv\"\u001b[0m\u001b[1;33m)\u001b[0m\u001b[1;33m,\u001b[0m\u001b[1;34m'w'\u001b[0m\u001b[1;33m)\u001b[0m\u001b[1;33m\u001b[0m\u001b[0m\n\u001b[0m\u001b[0;32m    144\u001b[0m             \u001b[0moutput_f\u001b[0m\u001b[1;33m.\u001b[0m\u001b[0mwrite\u001b[0m\u001b[1;33m(\u001b[0m\u001b[0mheader\u001b[0m\u001b[1;33m)\u001b[0m\u001b[1;33m\u001b[0m\u001b[0m\n\u001b[0;32m    145\u001b[0m             \u001b[1;32mfor\u001b[0m \u001b[0mi\u001b[0m \u001b[1;32min\u001b[0m \u001b[0mrange\u001b[0m\u001b[1;33m(\u001b[0m\u001b[0mlen\u001b[0m\u001b[1;33m(\u001b[0m\u001b[0mrefr\u001b[0m\u001b[1;33m)\u001b[0m\u001b[1;33m)\u001b[0m\u001b[1;33m:\u001b[0m\u001b[1;33m\u001b[0m\u001b[0m\n",
      "\u001b[1;31mFileNotFoundError\u001b[0m: [Errno 2] No such file or directory: ''"
     ]
    }
   ],
   "source": [
    "mat.to_csv(output=\"\")"
   ]
  },
  {
   "cell_type": "code",
   "execution_count": null,
   "metadata": {
    "collapsed": true
   },
   "outputs": [],
   "source": []
  }
 ],
 "metadata": {
  "kernelspec": {
   "display_name": "Python 3",
   "language": "python",
   "name": "python3"
  },
  "language_info": {
   "codemirror_mode": {
    "name": "ipython",
    "version": 3
   },
   "file_extension": ".py",
   "mimetype": "text/x-python",
   "name": "python",
   "nbconvert_exporter": "python",
   "pygments_lexer": "ipython3",
   "version": "3.5.1"
  }
 },
 "nbformat": 4,
 "nbformat_minor": 0
}
