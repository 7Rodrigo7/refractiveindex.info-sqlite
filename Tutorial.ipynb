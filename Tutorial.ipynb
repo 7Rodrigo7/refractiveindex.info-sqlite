{
 "cells": [
  {
   "cell_type": "markdown",
   "metadata": {},
   "source": [
    "# Introduction\n",
    "\n",
    "This is a brief introduction to using the refractivesqlite package. \n",
    "\n",
    "This package allows to create a SQLite database from the database refractiveindex.info, interpolate the refractive indices expressed as formulas, searching, and exporting materials to CSV."
   ]
  },
  {
   "cell_type": "markdown",
   "metadata": {},
   "source": [
    "# Create the database\n",
    "\n",
    "Note: once created, you don't need to create the DB again!\n",
    "In both methods you can specify the interpolation_points for the case when *n* is expressed as a formula and *k* is not defined."
   ]
  },
  {
   "cell_type": "markdown",
   "metadata": {},
   "source": [
    "## From url"
   ]
  },
  {
   "cell_type": "code",
   "execution_count": null,
   "metadata": {
    "collapsed": false
   },
   "outputs": [],
   "source": [
    "from refractivesqlite import dboperations as DB\n",
    "\n",
    "dbpath = \"refractive.db\"\n",
    "db = DB.Database(dbpath)\n",
    "db.create_database_from_url()"
   ]
  },
  {
   "cell_type": "markdown",
   "metadata": {},
   "source": [
    "## Check URL version"
   ]
  },
  {
   "cell_type": "code",
   "execution_count": 21,
   "metadata": {
    "collapsed": false
   },
   "outputs": [
    {
     "name": "stdout",
     "output_type": "stream",
     "text": [
      "Database file found at refractive.db\n",
      "http://refractiveindex.info/download/database/rii-database-2016-01-31.zip\n"
     ]
    }
   ],
   "source": [
    "from refractivesqlite import dboperations as DB\n",
    "\n",
    "dbpath = \"refractive.db\"\n",
    "db = DB.Database(dbpath)\n",
    "db.check_url_version()"
   ]
  },
  {
   "cell_type": "markdown",
   "metadata": {},
   "source": [
    "## Load a previous version\n",
    "(For example, version 2015-07-05)"
   ]
  },
  {
   "cell_type": "code",
   "execution_count": null,
   "metadata": {
    "collapsed": false
   },
   "outputs": [],
   "source": [
    "from refractivesqlite import dboperations as DB\n",
    "\n",
    "dbpath = \"refractive.db\"\n",
    "db = DB.Database(dbpath)\n",
    "db.create_database_from_url(riiurl=\"http://refractiveindex.info/download/database/rii-database-2015-07-05.zip\")"
   ]
  },
  {
   "cell_type": "markdown",
   "metadata": {},
   "source": [
    "## From local yml folder"
   ]
  },
  {
   "cell_type": "code",
   "execution_count": null,
   "metadata": {
    "collapsed": false
   },
   "outputs": [],
   "source": [
    "from refractivesqlite import dboperations as DB\n",
    "\n",
    "dbpath = \"refractive.db\"\n",
    "ymlpath = \"database\"\n",
    "db = DB.Database(dbpath)\n",
    "db.create_database_from_folder(ymlpath,interpolation_points=200)"
   ]
  },
  {
   "cell_type": "markdown",
   "metadata": {},
   "source": [
    "# Load database"
   ]
  },
  {
   "cell_type": "code",
   "execution_count": 22,
   "metadata": {
    "collapsed": false
   },
   "outputs": [
    {
     "name": "stdout",
     "output_type": "stream",
     "text": [
      "Database file found at refractive.db\n"
     ]
    }
   ],
   "source": [
    "from refractivesqlite import dboperations as DB\n",
    "\n",
    "dbpath = \"refractive.db\"\n",
    "db = DB.Database(dbpath)"
   ]
  },
  {
   "cell_type": "markdown",
   "metadata": {},
   "source": [
    "# Searches"
   ]
  },
  {
   "cell_type": "markdown",
   "metadata": {},
   "source": [
    "# List all pages"
   ]
  },
  {
   "cell_type": "code",
   "execution_count": null,
   "metadata": {
    "collapsed": false
   },
   "outputs": [],
   "source": [
    "db.search_pages()"
   ]
  },
  {
   "cell_type": "markdown",
   "metadata": {},
   "source": [
    "## Search pages by term"
   ]
  },
  {
   "cell_type": "code",
   "execution_count": 23,
   "metadata": {
    "collapsed": false
   },
   "outputs": [
    {
     "name": "stdout",
     "output_type": "stream",
     "text": [
      "3 results found.\n",
      "pageid\tshelf\tbook\tpage\tfilepath\thasrefractive\thasextinction\trangeMin\trangeMax\tpoints\n",
      "463\torganic\tethylene_glycol\tSani_and_Otanicar\torganic\\C2H6O2 - ethylene glycol\\Sani_and_Otanicar.yml\t1\t1\t0.185\t2.8\t66\n",
      "466\torganic\tpropylene_glycol\tOtanicar\torganic\\C3H8O2 - propylene glycol\\Otanicar.yml\t1\t1\t0.434\t0.656\t66\n",
      "1542\tother\tTherminolVP-1\tOtanicar\theat transfer fluids\\Therminol VP-1\\Otanicar.yml\t0\t1\t0.2\t1.5\t66\n"
     ]
    }
   ],
   "source": [
    "db.search_pages(\"otanicar\")"
   ]
  },
  {
   "cell_type": "markdown",
   "metadata": {},
   "source": [
    "## Search pages by exact term"
   ]
  },
  {
   "cell_type": "code",
   "execution_count": 24,
   "metadata": {
    "collapsed": false
   },
   "outputs": [
    {
     "name": "stdout",
     "output_type": "stream",
     "text": [
      "15 results found.\n",
      "pageid\tshelf\tbook\tpage\tfilepath\thasrefractive\thasextinction\trangeMin\trangeMax\tpoints\n",
      "27\tmain\tAu\tRakic\tmain\\Au\\Rakic.yml\t1\t1\t0.2066\t12.4\t200\n",
      "28\tmain\tAu\tOlmon-ev\tmain\\Au\\Olmon-ev.yml\t1\t1\t0.3\t24.93\t448\n",
      "29\tmain\tAu\tOlmon-sc\tmain\\Au\\Olmon-sc.yml\t1\t1\t0.3\t24.93\t448\n",
      "30\tmain\tAu\tOlmon-ts\tmain\\Au\\Olmon-ts.yml\t1\t1\t0.3\t24.93\t448\n",
      "31\tmain\tAu\tMcPeak\tmain\\Au\\McPeak.yml\t1\t1\t0.3\t1.7\t141\n",
      "32\tmain\tAu\tBabar\tmain\\Au\\Babar.yml\t1\t1\t0.2066\t12.4\t69\n",
      "33\tmain\tAu\tOrdal\tmain\\Au\\Ordal.yml\t1\t1\t0.667\t286.0\t52\n",
      "34\tmain\tAu\tWindt\tmain\\Au\\Windt.yml\t1\t1\t0.00236\t0.12157\t36\n",
      "35\tmain\tAu\tHagemann\tmain\\Au\\Hagemann.yml\t1\t1\t8.266e-06\t248.0\t149\n",
      "36\tmain\tAu\tHagemann-2\tmain\\Au\\Hagemann-2.yml\t1\t1\t0.003542\t0.8266\t124\n",
      "37\tmain\tAu\tJohnson\tmain\\Au\\Johnson.yml\t1\t1\t0.1879\t1.937\t49\n",
      "38\tmain\tAu\tLemarchand\tmain\\Au\\Lemarchand-3.96nm.yml\t1\t1\t0.35\t1.8\t291\n",
      "39\tmain\tAu\tLemarchand\tmain\\Au\\Lemarchand-4.62nm.yml\t1\t1\t0.35\t1.8\t291\n",
      "40\tmain\tAu\tLemarchand\tmain\\Au\\Lemarchand-5.77nm.yml\t1\t1\t0.35\t1.8\t291\n",
      "41\tmain\tAu\tLemarchand\tmain\\Au\\Lemarchand-11.7nm.yml\t1\t1\t0.35\t1.8\t291\n"
     ]
    }
   ],
   "source": [
    "db.search_pages(\"au\",exact=True)"
   ]
  },
  {
   "cell_type": "markdown",
   "metadata": {},
   "source": [
    "## Search by PageId"
   ]
  },
  {
   "cell_type": "code",
   "execution_count": 25,
   "metadata": {
    "collapsed": false
   },
   "outputs": [
    {
     "name": "stdout",
     "output_type": "stream",
     "text": [
      "pageid\tshelf\tbook\tpage\tfilepath\thasrefractive\thasextinction\trangeMin\trangeMax\tpoints\n",
      "1542\tother\tTherminolVP-1\tOtanicar\theat transfer fluids\\Therminol VP-1\\Otanicar.yml\t0\t1\t0.2\t1.5\t66\n"
     ]
    }
   ],
   "source": [
    "db.search_id(1542)"
   ]
  },
  {
   "cell_type": "markdown",
   "metadata": {},
   "source": [
    "## Search materials by *n* interval"
   ]
  },
  {
   "cell_type": "code",
   "execution_count": 26,
   "metadata": {
    "collapsed": false
   },
   "outputs": [
    {
     "name": "stdout",
     "output_type": "stream",
     "text": [
      "*Search n = 0.3 delta_n = 0.001\n",
      "19 results found.\n",
      "pageid|shelf|book|page|wavelength|n\n",
      "(4, 'main', 'Ag', 'Hagemann', 0.3351, 0.3)\n",
      "(9, 'main', 'Al', 'McPeak', 0.36, 0.300125667)\n",
      "(29, 'main', 'Au', 'Olmon-sc', 1.56, 0.3003)\n",
      "(41, 'main', 'Au', 'Lemarchand', 0.7, 0.30069838)\n",
      "(41, 'main', 'Au', 'Lemarchand', 0.705, 0.30001489)\n",
      "(41, 'main', 'Au', 'Lemarchand', 0.71, 0.29953164)\n",
      "(41, 'main', 'Au', 'Lemarchand', 0.715, 0.29923605)\n",
      "(41, 'main', 'Au', 'Lemarchand', 0.72, 0.29911651)\n",
      "(41, 'main', 'Au', 'Lemarchand', 0.725, 0.29916233)\n",
      "(41, 'main', 'Au', 'Lemarchand', 0.73, 0.29936366)\n",
      "(41, 'main', 'Au', 'Lemarchand', 0.735, 0.29971138)\n",
      "(41, 'main', 'Au', 'Lemarchand', 0.74, 0.30019707)\n",
      "(41, 'main', 'Au', 'Lemarchand', 0.745, 0.30081292)\n",
      "(100, 'main', 'Cu', 'Johnson', 0.6168, 0.3)\n",
      "(100, 'main', 'Cu', 'Johnson', 0.892, 0.3)\n",
      "(168, 'main', 'Li', 'Rasigni', 0.2362, 0.299)\n",
      "(169, 'main', 'Li', 'Inagaki', 0.365, 0.301)\n",
      "(197, 'main', 'Nb', 'Golovashkin-4.2', 2.5, 0.3)\n",
      "(292, 'main', 'Pb', 'Golovashkin-4.2', 1.6, 0.3)\n"
     ]
    }
   ],
   "source": [
    "db.search_n(n=0.3,delta_n=.001)"
   ]
  },
  {
   "cell_type": "markdown",
   "metadata": {},
   "source": [
    "## Search materials by *k* interval"
   ]
  },
  {
   "cell_type": "code",
   "execution_count": 27,
   "metadata": {
    "collapsed": false
   },
   "outputs": [
    {
     "name": "stdout",
     "output_type": "stream",
     "text": [
      "*Search k = 0.3 delta_k = 0.001\n",
      "41 results found.\n",
      "pageid|shelf|book|page|wavelength|k\n",
      "(4, 'main', 'Ag', 'Hagemann', 0.0253, 0.3)\n",
      "(12, 'main', 'Al', 'Hagemann', 0.08551, 0.301)\n",
      "(18, 'main', 'GaAs', 'Jellison', 0.53, 0.301)\n",
      "(71, 'main', 'C', 'Djurisic-o', 0.042763, 0.300338)\n",
      "(72, 'main', 'C', 'Djurisic-e', 0.031025, 0.300682)\n",
      "(72, 'main', 'C', 'Djurisic-e', 0.031055, 0.299383)\n",
      "(72, 'main', 'C', 'Djurisic-e', 0.034861, 0.299199)\n",
      "(72, 'main', 'C', 'Djurisic-e', 0.034898, 0.300196)\n",
      "(72, 'main', 'C', 'Djurisic-e', 0.049535, 0.300239)\n",
      "(72, 'main', 'C', 'Djurisic-e', 0.04961, 0.299465)\n",
      "(72, 'main', 'C', 'Djurisic-e', 0.057251, 0.30008)\n",
      "(72, 'main', 'C', 'Djurisic-e', 0.136643, 0.299196)\n",
      "(76, 'main', 'B4C', 'Larruquert', 0.898600363, 0.29904207)\n",
      "(80, 'main', 'SiC', 'Larruquert', 0.608179276, 0.30014661)\n",
      "(80, 'main', 'SiC', 'Larruquert', 20.0006755, 0.30097241)\n",
      "(81, 'main', 'Ca', 'Rodriguez-de_Marcos', 0.038847598, 0.300510958)\n",
      "(82, 'main', 'Ce', 'Fernandez-Perea', 0.06701848, 0.299016)\n",
      "(102, 'main', 'Er', 'Larruquert', 0.033977579, 0.30097769)\n",
      "(213, 'main', 'Al2O3', 'Kischkat', 10.28807, 0.29903)\n",
      "(225, 'main', 'H2O', 'Warren', 3.195, 0.3)\n",
      "(231, 'main', 'MoO3', 'Lajaunie-Î±', 0.0438107, 0.299276)\n",
      "(232, 'main', 'MoO3', 'Lajaunie-Î²', 0.0423154, 0.299257)\n",
      "(232, 'main', 'MoO3', 'Lajaunie-Î²', 0.0437334, 0.300422)\n",
      "(232, 'main', 'MoO3', 'Lajaunie-Î²', 0.0442801, 0.299852)\n",
      "(247, 'main', 'Ta2O5', 'Bright-amorphous', 10.3093, 0.300047)\n",
      "(248, 'main', 'Ta2O5', 'Bright-nanocrystalline', 10.3627, 0.299057)\n",
      "(296, 'main', 'Pr', 'Fernandez-Perea', 0.039204486, 0.300863)\n",
      "(319, 'main', 'CdS', 'Treharne', 0.46592328, 0.29994)\n",
      "(332, 'main', 'GaSb', 'Ferrini', 0.886, 0.299)\n",
      "(377, 'main', 'Si', 'Vuye-400C', 0.4275, 0.301)\n",
      "(384, 'main', 'Sr', 'Rodriguez-de_Marcos', 0.042937933, 0.299360106)\n",
      "(384, 'main', 'Sr', 'Rodriguez-de_Marcos', 0.048859964, 0.300291405)\n",
      "(396, 'main', 'CdTe', 'Treharne', 0.608025, 0.30040452)\n",
      "(396, 'main', 'CdTe', 'Treharne', 0.6096204, 0.299008)\n",
      "(414, 'main', 'Tm', 'Vidal-Dasilva', 0.032843493, 0.30004735)\n",
      "(414, 'main', 'Tm', 'Vidal-Dasilva', 0.03350924, 0.29917754)\n",
      "(414, 'main', 'Tm', 'Vidal-Dasilva', 0.034680892, 0.30042072)\n",
      "(546, 'glass', 'soda-lime', 'Rubin-IR', 15.0, 0.299)\n",
      "(1485, 'other', 'AlGaSb', 'Ferrini-0', 0.886, 0.299)\n",
      "(1541, 'other', 'CH3NH3PbI3', 'Phillips', 0.640352905, 0.299501)\n",
      "(1565, '3d', 'crystals', 'ice', 3.195, 0.3)\n"
     ]
    }
   ],
   "source": [
    "db.search_k(k=0.3,delta_k=.001)"
   ]
  },
  {
   "cell_type": "markdown",
   "metadata": {},
   "source": [
    "## Search materials by *n,k* range"
   ]
  },
  {
   "cell_type": "code",
   "execution_count": 28,
   "metadata": {
    "collapsed": false
   },
   "outputs": [
    {
     "name": "stdout",
     "output_type": "stream",
     "text": [
      "*Search n = 0.3 delta_n = 0.1 k = 0.3 delta_k = 0.1\n",
      "42 results found.\n",
      "pageid|shelf|book|page|wavelength|n|k\n",
      "(71, 'main', 'C', 'Djurisic-o', 0.042069, 0.399493, 0.262777)\n",
      "(71, 'main', 'C', 'Djurisic-o', 0.042126, 0.397854, 0.265747)\n",
      "(71, 'main', 'C', 'Djurisic-o', 0.042183, 0.396244, 0.26875)\n",
      "(71, 'main', 'C', 'Djurisic-o', 0.04224, 0.394662, 0.271782)\n",
      "(71, 'main', 'C', 'Djurisic-o', 0.042298, 0.39311, 0.274845)\n",
      "(71, 'main', 'C', 'Djurisic-o', 0.042355, 0.391588, 0.277937)\n",
      "(71, 'main', 'C', 'Djurisic-o', 0.042413, 0.390097, 0.281058)\n",
      "(71, 'main', 'C', 'Djurisic-o', 0.042471, 0.388638, 0.284207)\n",
      "(71, 'main', 'C', 'Djurisic-o', 0.042529, 0.387211, 0.287382)\n",
      "(71, 'main', 'C', 'Djurisic-o', 0.042588, 0.385817, 0.290584)\n",
      "(71, 'main', 'C', 'Djurisic-o', 0.042646, 0.384457, 0.293811)\n",
      "(71, 'main', 'C', 'Djurisic-o', 0.042705, 0.383131, 0.297063)\n",
      "(71, 'main', 'C', 'Djurisic-o', 0.042763, 0.38184, 0.300338)\n",
      "(71, 'main', 'C', 'Djurisic-o', 0.042822, 0.380584, 0.303635)\n",
      "(71, 'main', 'C', 'Djurisic-o', 0.042881, 0.379364, 0.306955)\n",
      "(71, 'main', 'C', 'Djurisic-o', 0.042941, 0.37818, 0.310295)\n",
      "(71, 'main', 'C', 'Djurisic-o', 0.043, 0.377032, 0.313655)\n",
      "(71, 'main', 'C', 'Djurisic-o', 0.043059, 0.375921, 0.317034)\n",
      "(71, 'main', 'C', 'Djurisic-o', 0.043119, 0.374848, 0.320431)\n",
      "(71, 'main', 'C', 'Djurisic-o', 0.043179, 0.373812, 0.323845)\n",
      "(71, 'main', 'C', 'Djurisic-o', 0.043239, 0.372813, 0.327275)\n",
      "(71, 'main', 'C', 'Djurisic-o', 0.043299, 0.371852, 0.330719)\n",
      "(71, 'main', 'C', 'Djurisic-o', 0.04336, 0.37093, 0.334178)\n",
      "(71, 'main', 'C', 'Djurisic-o', 0.04342, 0.370045, 0.337649)\n",
      "(71, 'main', 'C', 'Djurisic-o', 0.043481, 0.369199, 0.341133)\n",
      "(71, 'main', 'C', 'Djurisic-o', 0.043542, 0.368391, 0.344628)\n",
      "(71, 'main', 'C', 'Djurisic-o', 0.043603, 0.367621, 0.348132)\n",
      "(71, 'main', 'C', 'Djurisic-o', 0.043664, 0.366889, 0.351646)\n",
      "(71, 'main', 'C', 'Djurisic-o', 0.043726, 0.366195, 0.355167)\n",
      "(71, 'main', 'C', 'Djurisic-o', 0.043787, 0.365539, 0.358696)\n",
      "(71, 'main', 'C', 'Djurisic-o', 0.043849, 0.364921, 0.362231)\n",
      "(71, 'main', 'C', 'Djurisic-o', 0.043911, 0.364341, 0.365772)\n",
      "(71, 'main', 'C', 'Djurisic-o', 0.043973, 0.363798, 0.369317)\n",
      "(71, 'main', 'C', 'Djurisic-o', 0.044035, 0.363293, 0.372865)\n",
      "(71, 'main', 'C', 'Djurisic-o', 0.044098, 0.362824, 0.376416)\n",
      "(71, 'main', 'C', 'Djurisic-o', 0.04416, 0.362392, 0.379969)\n",
      "(71, 'main', 'C', 'Djurisic-o', 0.044223, 0.361996, 0.383522)\n",
      "(71, 'main', 'C', 'Djurisic-o', 0.044286, 0.361636, 0.387076)\n",
      "(71, 'main', 'C', 'Djurisic-o', 0.044349, 0.361312, 0.390629)\n",
      "(71, 'main', 'C', 'Djurisic-o', 0.044413, 0.361024, 0.394181)\n",
      "(71, 'main', 'C', 'Djurisic-o', 0.044476, 0.36077, 0.397731)\n",
      "(126, 'main', 'SrF2', 'Rodriguez-de_Marcos', 26.34640693, 0.330467574, 0.383771957)\n"
     ]
    }
   ],
   "source": [
    "db.search_nk(n=0.3, delta_n=0.1,k=0.3,delta_k=0.1)"
   ]
  },
  {
   "cell_type": "markdown",
   "metadata": {},
   "source": [
    "# Custom SQL search\n",
    "You can search for custom sql queries (at your own risk). The function prints the number of results, and returns a list with n-tuples ordered by the fields on the select statement."
   ]
  },
  {
   "cell_type": "code",
   "execution_count": 29,
   "metadata": {
    "collapsed": false
   },
   "outputs": [
    {
     "name": "stdout",
     "output_type": "stream",
     "text": [
      "2 results found.\n"
     ]
    },
    {
     "data": {
      "text/plain": [
       "[(0, 'main', 'Ag', 'Rakic', 'main\\\\Ag\\\\Rakic.yml', 1, 1, 0.2066, 12.4, 200),\n",
       " (1, 'main', 'Ag', 'McPeak', 'main\\\\Ag\\\\McPeak.yml', 1, 1, 0.3, 1.7, 141)]"
      ]
     },
     "execution_count": 29,
     "metadata": {},
     "output_type": "execute_result"
    }
   ],
   "source": [
    "db.search_custom('select * from pages where shelf=\"main\" and book=\"Ag\" and page LIKE \"%k%\"')"
   ]
  },
  {
   "cell_type": "code",
   "execution_count": 30,
   "metadata": {
    "collapsed": false
   },
   "outputs": [
    {
     "name": "stdout",
     "output_type": "stream",
     "text": [
      "11 results found.\n"
     ]
    },
    {
     "data": {
      "text/plain": [
       "[(0.3, 0.972336834),\n",
       " (0.31, 0.572501372),\n",
       " (0.32, 0.331538655),\n",
       " (0.33, 0.585441289),\n",
       " (0.34, 1.052042671),\n",
       " (0.35, 1.326866905),\n",
       " (0.36, 1.533000885),\n",
       " (0.37, 1.708000982),\n",
       " (0.38, 1.858729622),\n",
       " (0.39, 1.99546181),\n",
       " (0.4, 2.122943979)]"
      ]
     },
     "execution_count": 30,
     "metadata": {},
     "output_type": "execute_result"
    }
   ],
   "source": [
    "db.search_custom('select wave,coeff from extcoeff where pageid = 1 and wave between 0.3 and 0.4')"
   ]
  },
  {
   "cell_type": "code",
   "execution_count": 31,
   "metadata": {
    "collapsed": false
   },
   "outputs": [
    {
     "name": "stdout",
     "output_type": "stream",
     "text": [
      "11 results found.\n"
     ]
    },
    {
     "data": {
      "text/plain": [
       "[(0.3, 1.646857286),\n",
       " (0.31, 1.455629699),\n",
       " (0.32, 0.920058628),\n",
       " (0.33, 0.233797996),\n",
       " (0.34, 0.103893124),\n",
       " (0.35, 0.07599858),\n",
       " (0.36, 0.063180003),\n",
       " (0.37, 0.056279242),\n",
       " (0.38, 0.050752406),\n",
       " (0.39, 0.048660415),\n",
       " (0.4, 0.04572895)]"
      ]
     },
     "execution_count": 31,
     "metadata": {},
     "output_type": "execute_result"
    }
   ],
   "source": [
    "db.search_custom('select wave,refindex from refractiveindex where pageid = 1 and wave between 0.3 and 0.4')"
   ]
  },
  {
   "cell_type": "code",
   "execution_count": 32,
   "metadata": {
    "collapsed": false
   },
   "outputs": [
    {
     "name": "stdout",
     "output_type": "stream",
     "text": [
      "12 results found.\n"
     ]
    },
    {
     "data": {
      "text/plain": [
       "[('main\\\\Co\\\\Johnson.yml', 0.301, 1.44, 2.25),\n",
       " ('main\\\\Cr\\\\Johnson.yml', 0.301, 1.53, 2.34),\n",
       " ('main\\\\Fe\\\\Johnson.yml', 0.301, 1.67, 2.0),\n",
       " ('main\\\\Mn\\\\Johnson.yml', 0.301, 1.86, 2.19),\n",
       " ('main\\\\Ni\\\\Johnson.yml', 0.301, 2.02, 2.18),\n",
       " ('main\\\\Pd\\\\Johnson.yml', 0.301, 1.2, 2.29),\n",
       " ('main\\\\Ti\\\\Johnson.yml', 0.301, 1.45, 2.46),\n",
       " ('main\\\\V\\\\Johnson.yml', 0.301, 2.07, 2.95),\n",
       " ('perovskite\\\\CH3NH3PbI3\\\\Leguy.yml', 0.301, 1.7499, 0.9508),\n",
       " ('perovskite\\\\CH3NH3PbI3\\\\Leguy-hydrated.yml', 0.301, 2.7371, 1.0209),\n",
       " ('main\\\\Fe\\\\Johnson.yml', 0.301, 1.67, 2.0),\n",
       " ('main\\\\Ti\\\\Johnson.yml', 0.301, 1.45, 2.46)]"
      ]
     },
     "execution_count": 32,
     "metadata": {},
     "output_type": "execute_result"
    }
   ],
   "source": [
    "db.search_custom('''select p.filepath, r.wave,refindex,coeff \n",
    "                    from refractiveindex r inner join extcoeff e on r.pageid = e.pageid and r.wave = e.wave\n",
    "                    inner join pages p on r.pageid = p.pageid\n",
    "                    where r.wave = .301''')"
   ]
  },
  {
   "cell_type": "markdown",
   "metadata": {},
   "source": [
    "## *Be careful*: Get ALL CSVs"
   ]
  },
  {
   "cell_type": "code",
   "execution_count": null,
   "metadata": {
    "collapsed": false
   },
   "outputs": [],
   "source": [
    "db.get_material_csv_all(outputfolder=\"all\")"
   ]
  },
  {
   "cell_type": "markdown",
   "metadata": {},
   "source": [
    "# Interact with materials"
   ]
  },
  {
   "cell_type": "markdown",
   "metadata": {},
   "source": [
    "## Load material by Id"
   ]
  },
  {
   "cell_type": "code",
   "execution_count": 33,
   "metadata": {
    "collapsed": false
   },
   "outputs": [
    {
     "name": "stdout",
     "output_type": "stream",
     "text": [
      "Material other\\soot\\acetylene soot - Dalzell.yml loaded.\n"
     ]
    }
   ],
   "source": [
    "mat = db.get_material(1579)"
   ]
  },
  {
   "cell_type": "markdown",
   "metadata": {},
   "source": [
    "## Get material info"
   ]
  },
  {
   "cell_type": "code",
   "execution_count": 34,
   "metadata": {
    "collapsed": false
   },
   "outputs": [
    {
     "name": "stdout",
     "output_type": "stream",
     "text": [
      "OrderedDict([('pageid', 1579), ('shelf', '3d'), ('book', 'misc'), ('page', 'acetylene_soot'), ('filepath', 'other\\\\soot\\\\acetylene soot - Dalzell.yml'), ('hasrefractive', 1), ('hasextinction', 1), ('rangeMin', 0.4358), ('rangeMax', 10.0), ('points', 13)])\n"
     ]
    }
   ],
   "source": [
    "print(mat.get_page_info())"
   ]
  },
  {
   "cell_type": "markdown",
   "metadata": {},
   "source": [
    "## Get material *n*"
   ]
  },
  {
   "cell_type": "code",
   "execution_count": 35,
   "metadata": {
    "collapsed": false
   },
   "outputs": [
    {
     "name": "stdout",
     "output_type": "stream",
     "text": [
      "[[0.4358, 1.56], [0.45, 1.56], [0.55, 1.56], [0.65, 1.57], [0.8065, 1.57], [2.5, 2.31], [3.0, 2.62], [4.0, 2.74], [5.0, 2.88], [6.0, 3.22], [7.0, 3.49], [8.5, 4.22], [10.0, 4.8]]\n"
     ]
    }
   ],
   "source": [
    "import numpy as np\n",
    "n = mat.get_complete_refractive()\n",
    "print(n)"
   ]
  },
  {
   "cell_type": "markdown",
   "metadata": {},
   "source": [
    "## Get material *n* as numpy array"
   ]
  },
  {
   "cell_type": "code",
   "execution_count": 36,
   "metadata": {
    "collapsed": false
   },
   "outputs": [
    {
     "name": "stdout",
     "output_type": "stream",
     "text": [
      "[[  0.4358   1.56  ]\n",
      " [  0.45     1.56  ]\n",
      " [  0.55     1.56  ]\n",
      " [  0.65     1.57  ]\n",
      " [  0.8065   1.57  ]\n",
      " [  2.5      2.31  ]\n",
      " [  3.       2.62  ]\n",
      " [  4.       2.74  ]\n",
      " [  5.       2.88  ]\n",
      " [  6.       3.22  ]\n",
      " [  7.       3.49  ]\n",
      " [  8.5      4.22  ]\n",
      " [ 10.       4.8   ]]\n"
     ]
    }
   ],
   "source": [
    "import numpy as np\n",
    "n = np.array(mat.get_complete_refractive())\n",
    "print(n)"
   ]
  },
  {
   "cell_type": "markdown",
   "metadata": {},
   "source": [
    "## Get material *k*"
   ]
  },
  {
   "cell_type": "code",
   "execution_count": 37,
   "metadata": {
    "collapsed": false
   },
   "outputs": [
    {
     "name": "stdout",
     "output_type": "stream",
     "text": [
      "[[0.4358, 0.46], [0.45, 0.48], [0.55, 0.46], [0.65, 0.44], [0.8065, 0.46], [2.5, 1.26], [3.0, 1.62], [4.0, 1.64], [5.0, 1.82], [6.0, 1.84], [7.0, 2.17], [8.5, 3.46], [10.0, 3.82]]\n"
     ]
    }
   ],
   "source": [
    "k = mat.get_complete_extinction()\n",
    "print(k)"
   ]
  },
  {
   "cell_type": "markdown",
   "metadata": {},
   "source": [
    "## Get material *k*"
   ]
  },
  {
   "cell_type": "code",
   "execution_count": 38,
   "metadata": {
    "collapsed": false
   },
   "outputs": [
    {
     "name": "stdout",
     "output_type": "stream",
     "text": [
      "[[  0.4358   0.46  ]\n",
      " [  0.45     0.48  ]\n",
      " [  0.55     0.46  ]\n",
      " [  0.65     0.44  ]\n",
      " [  0.8065   0.46  ]\n",
      " [  2.5      1.26  ]\n",
      " [  3.       1.62  ]\n",
      " [  4.       1.64  ]\n",
      " [  5.       1.82  ]\n",
      " [  6.       1.84  ]\n",
      " [  7.       2.17  ]\n",
      " [  8.5      3.46  ]\n",
      " [ 10.       3.82  ]]\n"
     ]
    }
   ],
   "source": [
    "k = np.array(mat.get_complete_extinction())\n",
    "print(k)"
   ]
  },
  {
   "cell_type": "markdown",
   "metadata": {},
   "source": [
    "## Get n,k data as CSV"
   ]
  },
  {
   "cell_type": "code",
   "execution_count": 39,
   "metadata": {
    "collapsed": false
   },
   "outputs": [
    {
     "name": "stdout",
     "output_type": "stream",
     "text": [
      "Wrote mat1(nk).csv\n"
     ]
    }
   ],
   "source": [
    "mat.to_csv(output=\"mat1.csv\")"
   ]
  },
  {
   "cell_type": "code",
   "execution_count": null,
   "metadata": {
    "collapsed": true
   },
   "outputs": [],
   "source": []
  }
 ],
 "metadata": {
  "kernelspec": {
   "display_name": "Python 3",
   "language": "python",
   "name": "python3"
  },
  "language_info": {
   "codemirror_mode": {
    "name": "ipython",
    "version": 3
   },
   "file_extension": ".py",
   "mimetype": "text/x-python",
   "name": "python",
   "nbconvert_exporter": "python",
   "pygments_lexer": "ipython3",
   "version": "3.5.1"
  }
 },
 "nbformat": 4,
 "nbformat_minor": 0
}
