{
 "cells": [
  {
   "cell_type": "markdown",
   "metadata": {},
   "source": [
    "# Create the database\n",
    "\n",
    "Note: once created, you don't need to create the DB again!\n",
    "In both methods you can specify the interpolation_points for the case when *n* is expressed as a formula and *k* is not defined."
   ]
  },
  {
   "cell_type": "markdown",
   "metadata": {},
   "source": [
    "## From url"
   ]
  },
  {
   "cell_type": "code",
   "execution_count": null,
   "metadata": {
    "collapsed": false
   },
   "outputs": [],
   "source": [
    "from refractivesqlite import dboperations as DB\n",
    "\n",
    "dbpath = \"refractive.db\"\n",
    "db = DB.Database(dbpath)\n",
    "db.create_database_from_url()"
   ]
  },
  {
   "cell_type": "markdown",
   "metadata": {},
   "source": [
    "## From local yml folder"
   ]
  },
  {
   "cell_type": "code",
   "execution_count": null,
   "metadata": {
    "collapsed": false
   },
   "outputs": [],
   "source": [
    "from refractivesqlite import dboperations as DB\n",
    "\n",
    "dbpath = \"refractive.db\"\n",
    "ymlpath = \"database\"\n",
    "db = DB.Database(dbpath)\n",
    "db.create_database_from_folder(ymlpath,interpolation_points=200)"
   ]
  },
  {
   "cell_type": "markdown",
   "metadata": {},
   "source": [
    "# Load database"
   ]
  },
  {
   "cell_type": "code",
   "execution_count": 17,
   "metadata": {
    "collapsed": false
   },
   "outputs": [],
   "source": [
    "from refractivesqlite import dboperations as DB\n",
    "\n",
    "dbpath = \"refractive.db\"\n",
    "db = DB.Database(dbpath)"
   ]
  },
  {
   "cell_type": "markdown",
   "metadata": {},
   "source": [
    "# Searches"
   ]
  },
  {
   "cell_type": "markdown",
   "metadata": {},
   "source": [
    "# List all pages"
   ]
  },
  {
   "cell_type": "code",
   "execution_count": null,
   "metadata": {
    "collapsed": false
   },
   "outputs": [],
   "source": [
    "db.search_pages()"
   ]
  },
  {
   "cell_type": "markdown",
   "metadata": {},
   "source": [
    "## Search pages by term"
   ]
  },
  {
   "cell_type": "code",
   "execution_count": 19,
   "metadata": {
    "collapsed": false
   },
   "outputs": [
    {
     "name": "stdout",
     "output_type": "stream",
     "text": [
      "3 results found.\n",
      "pageid\tshelf\tbook\tpage\tfilepath\thasrefractive\thasextinction\trangeMin\trangeMax\tpoints\n",
      "463\torganic\tethylene_glycol\tSani_and_Otanicar\torganic\\C2H6O2 - ethylene glycol\\Sani_and_Otanicar.yml\t1\t1\t0.185\t2.8\t66\n",
      "466\torganic\tpropylene_glycol\tOtanicar\torganic\\C3H8O2 - propylene glycol\\Otanicar.yml\t1\t1\t0.434\t0.656\t66\n",
      "1542\tother\tTherminolVP-1\tOtanicar\theat transfer fluids\\Therminol VP-1\\Otanicar.yml\t0\t1\t0.2\t1.5\t66\n"
     ]
    }
   ],
   "source": [
    "db.search_pages(\"otanicar\")"
   ]
  },
  {
   "cell_type": "markdown",
   "metadata": {},
   "source": [
    "## Search pages by exact term"
   ]
  },
  {
   "cell_type": "code",
   "execution_count": 20,
   "metadata": {
    "collapsed": false
   },
   "outputs": [
    {
     "name": "stdout",
     "output_type": "stream",
     "text": [
      "15 results found.\n",
      "pageid\tshelf\tbook\tpage\tfilepath\thasrefractive\thasextinction\trangeMin\trangeMax\tpoints\n",
      "27\tmain\tAu\tRakic\tmain\\Au\\Rakic.yml\t1\t1\t0.2066\t12.4\t200\n",
      "28\tmain\tAu\tOlmon-ev\tmain\\Au\\Olmon-ev.yml\t1\t1\t0.3\t24.93\t448\n",
      "29\tmain\tAu\tOlmon-sc\tmain\\Au\\Olmon-sc.yml\t1\t1\t0.3\t24.93\t448\n",
      "30\tmain\tAu\tOlmon-ts\tmain\\Au\\Olmon-ts.yml\t1\t1\t0.3\t24.93\t448\n",
      "31\tmain\tAu\tMcPeak\tmain\\Au\\McPeak.yml\t1\t1\t0.3\t1.7\t141\n",
      "32\tmain\tAu\tBabar\tmain\\Au\\Babar.yml\t1\t1\t0.2066\t12.4\t69\n",
      "33\tmain\tAu\tOrdal\tmain\\Au\\Ordal.yml\t1\t1\t0.667\t286.0\t52\n",
      "34\tmain\tAu\tWindt\tmain\\Au\\Windt.yml\t1\t1\t0.00236\t0.12157\t36\n",
      "35\tmain\tAu\tHagemann\tmain\\Au\\Hagemann.yml\t1\t1\t8.266e-06\t248.0\t149\n",
      "36\tmain\tAu\tHagemann-2\tmain\\Au\\Hagemann-2.yml\t1\t1\t0.003542\t0.8266\t124\n",
      "37\tmain\tAu\tJohnson\tmain\\Au\\Johnson.yml\t1\t1\t0.1879\t1.937\t49\n",
      "38\tmain\tAu\tLemarchand\tmain\\Au\\Lemarchand-3.96nm.yml\t1\t1\t0.35\t1.8\t291\n",
      "39\tmain\tAu\tLemarchand\tmain\\Au\\Lemarchand-4.62nm.yml\t1\t1\t0.35\t1.8\t291\n",
      "40\tmain\tAu\tLemarchand\tmain\\Au\\Lemarchand-5.77nm.yml\t1\t1\t0.35\t1.8\t291\n",
      "41\tmain\tAu\tLemarchand\tmain\\Au\\Lemarchand-11.7nm.yml\t1\t1\t0.35\t1.8\t291\n"
     ]
    }
   ],
   "source": [
    "db.search_pages(\"au\",exact=True)"
   ]
  },
  {
   "cell_type": "markdown",
   "metadata": {},
   "source": [
    "## Search by PageId"
   ]
  },
  {
   "cell_type": "code",
   "execution_count": 21,
   "metadata": {
    "collapsed": false
   },
   "outputs": [
    {
     "name": "stdout",
     "output_type": "stream",
     "text": [
      "pageid\tshelf\tbook\tpage\tfilepath\thasrefractive\thasextinction\trangeMin\trangeMax\tpoints\n",
      "1542\tother\tTherminolVP-1\tOtanicar\theat transfer fluids\\Therminol VP-1\\Otanicar.yml\t0\t1\t0.2\t1.5\t66\n"
     ]
    }
   ],
   "source": [
    "db.search_id(1542)"
   ]
  },
  {
   "cell_type": "markdown",
   "metadata": {},
   "source": [
    "## Search materials by *n* interval"
   ]
  },
  {
   "cell_type": "code",
   "execution_count": 22,
   "metadata": {
    "collapsed": false
   },
   "outputs": [
    {
     "name": "stdout",
     "output_type": "stream",
     "text": [
      "*Search n = 0.3 delta_n = 0.001\n",
      "19 results found.\n",
      "pageid|shelf|book|page|wavelength|n\n",
      "(4, 'main', 'Ag', 'Hagemann', 0.3351, 0.3)\n",
      "(9, 'main', 'Al', 'McPeak', 0.36, 0.300125667)\n",
      "(29, 'main', 'Au', 'Olmon-sc', 1.56, 0.3003)\n",
      "(41, 'main', 'Au', 'Lemarchand', 0.7, 0.30069838)\n",
      "(41, 'main', 'Au', 'Lemarchand', 0.705, 0.30001489)\n",
      "(41, 'main', 'Au', 'Lemarchand', 0.71, 0.29953164)\n",
      "(41, 'main', 'Au', 'Lemarchand', 0.715, 0.29923605)\n",
      "(41, 'main', 'Au', 'Lemarchand', 0.72, 0.29911651)\n",
      "(41, 'main', 'Au', 'Lemarchand', 0.725, 0.29916233)\n",
      "(41, 'main', 'Au', 'Lemarchand', 0.73, 0.29936366)\n",
      "(41, 'main', 'Au', 'Lemarchand', 0.735, 0.29971138)\n",
      "(41, 'main', 'Au', 'Lemarchand', 0.74, 0.30019707)\n",
      "(41, 'main', 'Au', 'Lemarchand', 0.745, 0.30081292)\n",
      "(100, 'main', 'Cu', 'Johnson', 0.6168, 0.3)\n",
      "(100, 'main', 'Cu', 'Johnson', 0.892, 0.3)\n",
      "(168, 'main', 'Li', 'Rasigni', 0.2362, 0.299)\n",
      "(169, 'main', 'Li', 'Inagaki', 0.365, 0.301)\n",
      "(197, 'main', 'Nb', 'Golovashkin-4.2', 2.5, 0.3)\n",
      "(292, 'main', 'Pb', 'Golovashkin-4.2', 1.6, 0.3)\n"
     ]
    }
   ],
   "source": [
    "db.search_n(n=0.3,delta_n=.001)"
   ]
  },
  {
   "cell_type": "markdown",
   "metadata": {},
   "source": [
    "## Search materials by *k* interval"
   ]
  },
  {
   "cell_type": "code",
   "execution_count": 23,
   "metadata": {
    "collapsed": false
   },
   "outputs": [
    {
     "name": "stdout",
     "output_type": "stream",
     "text": [
      "*Search k = 0.3 delta_k = 0.001\n",
      "41 results found.\n",
      "pageid|shelf|book|page|wavelength|k\n",
      "(4, 'main', 'Ag', 'Hagemann', 0.0253, 0.3)\n",
      "(12, 'main', 'Al', 'Hagemann', 0.08551, 0.301)\n",
      "(18, 'main', 'GaAs', 'Jellison', 0.53, 0.301)\n",
      "(71, 'main', 'C', 'Djurisic-o', 0.042763, 0.300338)\n",
      "(72, 'main', 'C', 'Djurisic-e', 0.031025, 0.300682)\n",
      "(72, 'main', 'C', 'Djurisic-e', 0.031055, 0.299383)\n",
      "(72, 'main', 'C', 'Djurisic-e', 0.034861, 0.299199)\n",
      "(72, 'main', 'C', 'Djurisic-e', 0.034898, 0.300196)\n",
      "(72, 'main', 'C', 'Djurisic-e', 0.049535, 0.300239)\n",
      "(72, 'main', 'C', 'Djurisic-e', 0.04961, 0.299465)\n",
      "(72, 'main', 'C', 'Djurisic-e', 0.057251, 0.30008)\n",
      "(72, 'main', 'C', 'Djurisic-e', 0.136643, 0.299196)\n",
      "(76, 'main', 'B4C', 'Larruquert', 0.898600363, 0.29904207)\n",
      "(80, 'main', 'SiC', 'Larruquert', 0.608179276, 0.30014661)\n",
      "(80, 'main', 'SiC', 'Larruquert', 20.0006755, 0.30097241)\n",
      "(81, 'main', 'Ca', 'Rodriguez-de_Marcos', 0.038847598, 0.300510958)\n",
      "(82, 'main', 'Ce', 'Fernandez-Perea', 0.06701848, 0.299016)\n",
      "(102, 'main', 'Er', 'Larruquert', 0.033977579, 0.30097769)\n",
      "(213, 'main', 'Al2O3', 'Kischkat', 10.28807, 0.29903)\n",
      "(225, 'main', 'H2O', 'Warren', 3.195, 0.3)\n",
      "(231, 'main', 'MoO3', 'Lajaunie-Î±', 0.0438107, 0.299276)\n",
      "(232, 'main', 'MoO3', 'Lajaunie-Î²', 0.0423154, 0.299257)\n",
      "(232, 'main', 'MoO3', 'Lajaunie-Î²', 0.0437334, 0.300422)\n",
      "(232, 'main', 'MoO3', 'Lajaunie-Î²', 0.0442801, 0.299852)\n",
      "(247, 'main', 'Ta2O5', 'Bright-amorphous', 10.3093, 0.300047)\n",
      "(248, 'main', 'Ta2O5', 'Bright-nanocrystalline', 10.3627, 0.299057)\n",
      "(296, 'main', 'Pr', 'Fernandez-Perea', 0.039204486, 0.300863)\n",
      "(319, 'main', 'CdS', 'Treharne', 0.46592328, 0.29994)\n",
      "(332, 'main', 'GaSb', 'Ferrini', 0.886, 0.299)\n",
      "(377, 'main', 'Si', 'Vuye-400C', 0.4275, 0.301)\n",
      "(384, 'main', 'Sr', 'Rodriguez-de_Marcos', 0.042937933, 0.299360106)\n",
      "(384, 'main', 'Sr', 'Rodriguez-de_Marcos', 0.048859964, 0.300291405)\n",
      "(396, 'main', 'CdTe', 'Treharne', 0.608025, 0.30040452)\n",
      "(396, 'main', 'CdTe', 'Treharne', 0.6096204, 0.299008)\n",
      "(414, 'main', 'Tm', 'Vidal-Dasilva', 0.032843493, 0.30004735)\n",
      "(414, 'main', 'Tm', 'Vidal-Dasilva', 0.03350924, 0.29917754)\n",
      "(414, 'main', 'Tm', 'Vidal-Dasilva', 0.034680892, 0.30042072)\n",
      "(546, 'glass', 'soda-lime', 'Rubin-IR', 15.0, 0.299)\n",
      "(1485, 'other', 'AlGaSb', 'Ferrini-0', 0.886, 0.299)\n",
      "(1541, 'other', 'CH3NH3PbI3', 'Phillips', 0.640352905, 0.299501)\n",
      "(1565, '3d', 'crystals', 'ice', 3.195, 0.3)\n"
     ]
    }
   ],
   "source": [
    "db.search_k(k=0.3,delta_k=.001)"
   ]
  },
  {
   "cell_type": "markdown",
   "metadata": {},
   "source": [
    "## Search materials by *n,k* range"
   ]
  },
  {
   "cell_type": "code",
   "execution_count": 8,
   "metadata": {
    "collapsed": false
   },
   "outputs": [
    {
     "name": "stdout",
     "output_type": "stream",
     "text": [
      "*Search n = 0.3 delta_n = 0.1 k = 0.3 delta_k = 0.1\n",
      "42 results found.\n",
      "pageid|shelf|book|page|wavelength|n|k\n",
      "(71, 'main', 'C', 'Djurisic-o', 0.042069, 0.399493, 0.262777)\n",
      "(71, 'main', 'C', 'Djurisic-o', 0.042126, 0.397854, 0.265747)\n",
      "(71, 'main', 'C', 'Djurisic-o', 0.042183, 0.396244, 0.26875)\n",
      "(71, 'main', 'C', 'Djurisic-o', 0.04224, 0.394662, 0.271782)\n",
      "(71, 'main', 'C', 'Djurisic-o', 0.042298, 0.39311, 0.274845)\n",
      "(71, 'main', 'C', 'Djurisic-o', 0.042355, 0.391588, 0.277937)\n",
      "(71, 'main', 'C', 'Djurisic-o', 0.042413, 0.390097, 0.281058)\n",
      "(71, 'main', 'C', 'Djurisic-o', 0.042471, 0.388638, 0.284207)\n",
      "(71, 'main', 'C', 'Djurisic-o', 0.042529, 0.387211, 0.287382)\n",
      "(71, 'main', 'C', 'Djurisic-o', 0.042588, 0.385817, 0.290584)\n",
      "(71, 'main', 'C', 'Djurisic-o', 0.042646, 0.384457, 0.293811)\n",
      "(71, 'main', 'C', 'Djurisic-o', 0.042705, 0.383131, 0.297063)\n",
      "(71, 'main', 'C', 'Djurisic-o', 0.042763, 0.38184, 0.300338)\n",
      "(71, 'main', 'C', 'Djurisic-o', 0.042822, 0.380584, 0.303635)\n",
      "(71, 'main', 'C', 'Djurisic-o', 0.042881, 0.379364, 0.306955)\n",
      "(71, 'main', 'C', 'Djurisic-o', 0.042941, 0.37818, 0.310295)\n",
      "(71, 'main', 'C', 'Djurisic-o', 0.043, 0.377032, 0.313655)\n",
      "(71, 'main', 'C', 'Djurisic-o', 0.043059, 0.375921, 0.317034)\n",
      "(71, 'main', 'C', 'Djurisic-o', 0.043119, 0.374848, 0.320431)\n",
      "(71, 'main', 'C', 'Djurisic-o', 0.043179, 0.373812, 0.323845)\n",
      "(71, 'main', 'C', 'Djurisic-o', 0.043239, 0.372813, 0.327275)\n",
      "(71, 'main', 'C', 'Djurisic-o', 0.043299, 0.371852, 0.330719)\n",
      "(71, 'main', 'C', 'Djurisic-o', 0.04336, 0.37093, 0.334178)\n",
      "(71, 'main', 'C', 'Djurisic-o', 0.04342, 0.370045, 0.337649)\n",
      "(71, 'main', 'C', 'Djurisic-o', 0.043481, 0.369199, 0.341133)\n",
      "(71, 'main', 'C', 'Djurisic-o', 0.043542, 0.368391, 0.344628)\n",
      "(71, 'main', 'C', 'Djurisic-o', 0.043603, 0.367621, 0.348132)\n",
      "(71, 'main', 'C', 'Djurisic-o', 0.043664, 0.366889, 0.351646)\n",
      "(71, 'main', 'C', 'Djurisic-o', 0.043726, 0.366195, 0.355167)\n",
      "(71, 'main', 'C', 'Djurisic-o', 0.043787, 0.365539, 0.358696)\n",
      "(71, 'main', 'C', 'Djurisic-o', 0.043849, 0.364921, 0.362231)\n",
      "(71, 'main', 'C', 'Djurisic-o', 0.043911, 0.364341, 0.365772)\n",
      "(71, 'main', 'C', 'Djurisic-o', 0.043973, 0.363798, 0.369317)\n",
      "(71, 'main', 'C', 'Djurisic-o', 0.044035, 0.363293, 0.372865)\n",
      "(71, 'main', 'C', 'Djurisic-o', 0.044098, 0.362824, 0.376416)\n",
      "(71, 'main', 'C', 'Djurisic-o', 0.04416, 0.362392, 0.379969)\n",
      "(71, 'main', 'C', 'Djurisic-o', 0.044223, 0.361996, 0.383522)\n",
      "(71, 'main', 'C', 'Djurisic-o', 0.044286, 0.361636, 0.387076)\n",
      "(71, 'main', 'C', 'Djurisic-o', 0.044349, 0.361312, 0.390629)\n",
      "(71, 'main', 'C', 'Djurisic-o', 0.044413, 0.361024, 0.394181)\n",
      "(71, 'main', 'C', 'Djurisic-o', 0.044476, 0.36077, 0.397731)\n",
      "(126, 'main', 'SrF2', 'Rodriguez-de_Marcos', 26.34640693, 0.330467574, 0.383771957)\n"
     ]
    }
   ],
   "source": [
    "from refractivesqlite import dboperations as DB\n",
    "dbpath = \"refractive.db\"\n",
    "db = DB.Database(dbpath)\n",
    "db.search_nk(n=0.3, delta_n=0.1,k=0.3,delta_k=0.1)"
   ]
  },
  {
   "cell_type": "markdown",
   "metadata": {},
   "source": [
    "# Materials by PageId"
   ]
  },
  {
   "cell_type": "code",
   "execution_count": 24,
   "metadata": {
    "collapsed": false
   },
   "outputs": [],
   "source": [
    "mat = db.getMaterial(1)"
   ]
  },
  {
   "cell_type": "markdown",
   "metadata": {},
   "source": [
    "## Get info"
   ]
  },
  {
   "cell_type": "code",
   "execution_count": 13,
   "metadata": {
    "collapsed": false
   },
   "outputs": [
    {
     "name": "stdout",
     "output_type": "stream",
     "text": [
      "OrderedDict([('pageid', 1), ('shelf', 'main'), ('book', 'Ag'), ('page', 'McPeak'), ('filepath', 'main\\\\Ag\\\\McPeak.yml'), ('hasrefractive', 1), ('hasextinction', 1), ('rangeMin', 0.3), ('rangeMax', 1.7), ('points', 141)])\n"
     ]
    }
   ],
   "source": [
    "print(mat.getPageInfo())"
   ]
  },
  {
   "cell_type": "markdown",
   "metadata": {},
   "source": [
    "## Get *n*"
   ]
  },
  {
   "cell_type": "code",
   "execution_count": 14,
   "metadata": {
    "collapsed": false
   },
   "outputs": [
    {
     "name": "stdout",
     "output_type": "stream",
     "text": [
      "[[0.3, 1.646857286], [0.31, 1.455629699], [0.32, 0.920058628], [0.33, 0.233797996], [0.34, 0.103893124], [0.35, 0.07599858], [0.36, 0.063180003], [0.37, 0.056279242], [0.38, 0.050752406], [0.39, 0.048660415], [0.4, 0.04572895], [0.41, 0.04451952], [0.42, 0.043287376], [0.43, 0.041992656], [0.44, 0.041101491], [0.45, 0.040932342], [0.46, 0.040956736], [0.47, 0.040727224], [0.48, 0.040781493], [0.49, 0.041249589], [0.5, 0.041373355], [0.51, 0.041602686], [0.52, 0.04237275], [0.53, 0.042204211], [0.54, 0.043403286], [0.55, 0.043817181], [0.56, 0.044507429], [0.57, 0.045973387], [0.58, 0.046819894], [0.59, 0.046840293], [0.6, 0.047410447], [0.61, 0.048985705], [0.62, 0.049617793], [0.63, 0.051101901], [0.64, 0.051646932], [0.65, 0.05091337], [0.66, 0.053388535], [0.67, 0.052475104], [0.68, 0.054218627], [0.69, 0.054429231], [0.7, 0.054860386], [0.71, 0.056538596], [0.72, 0.057401233], [0.73, 0.057733458], [0.74, 0.059629401], [0.75, 0.060113603], [0.76, 0.059047193], [0.77, 0.063824207], [0.78, 0.063464686], [0.79, 0.062217489], [0.8, 0.063950702], [0.81, 0.067473356], [0.82, 0.067636134], [0.83, 0.068189561], [0.84, 0.067475107], [0.85, 0.070135706], [0.86, 0.070503234], [0.87, 0.072455233], [0.88, 0.073943622], [0.89, 0.074927946], [0.9, 0.074793597], [0.91, 0.077646805], [0.92, 0.07877958], [0.93, 0.080106493], [0.94, 0.080039752], [0.95, 0.081098618], [0.96, 0.083963945], [0.97, 0.082327665], [0.98, 0.08532286], [0.99, 0.087779237], [1.0, 0.088025428], [1.01, 0.090501937], [1.02, 0.091223005], [1.03, 0.093163641], [1.04, 0.090978009], [1.05, 0.093069308], [1.06, 0.087488108], [1.07, 0.090085692], [1.08, 0.091414911], [1.09, 0.08952186], [1.1, 0.087625115], [1.11, 0.090461037], [1.12, 0.094528298], [1.13, 0.092749501], [1.14, 0.095451077], [1.15, 0.084359933], [1.16, 0.095878288], [1.17, 0.097053265], [1.18, 0.09493293], [1.19, 0.098324452], [1.2, 0.094881447], [1.21, 0.098216298], [1.22, 0.098772673], [1.23, 0.095285601], [1.24, 0.10376706], [1.25, 0.100172489], [1.26, 0.105090726], [1.27, 0.103513926], [1.28, 0.106644981], [1.29, 0.107642765], [1.3, 0.112669175], [1.31, 0.115274563], [1.32, 0.110070769], [1.33, 0.113725572], [1.34, 0.110796441], [1.35, 0.115127087], [1.36, 0.121692797], [1.37, 0.120000737], [1.38, 0.127761842], [1.39, 0.127391401], [1.4, 0.129567338], [1.41, 0.129532614], [1.42, 0.139425972], [1.43, 0.136689082], [1.44, 0.1337676], [1.45, 0.13753433], [1.46, 0.136002449], [1.47, 0.140018996], [1.48, 0.145683795], [1.49, 0.143029825], [1.5, 0.140671824], [1.51, 0.146851335], [1.52, 0.145574468], [1.53, 0.151117653], [1.54, 0.159989508], [1.55, 0.156488871], [1.56, 0.163061728], [1.57, 0.146280234], [1.58, 0.160846655], [1.59, 0.160289135], [1.6, 0.179696729], [1.61, 0.177528577], [1.62, 0.17444857], [1.63, 0.180256871], [1.64, 0.185834026], [1.65, 0.18452807], [1.66, 0.196882981], [1.67, 0.175222972], [1.68, 0.194315172], [1.69, 0.20553684], [1.7, 0.198531592]]\n"
     ]
    }
   ],
   "source": [
    "print(mat.getCompleteRefractive())"
   ]
  },
  {
   "cell_type": "markdown",
   "metadata": {},
   "source": [
    "## Get *k*"
   ]
  },
  {
   "cell_type": "code",
   "execution_count": 15,
   "metadata": {
    "collapsed": false
   },
   "outputs": [
    {
     "name": "stdout",
     "output_type": "stream",
     "text": [
      "[[0.3, 0.972336834], [0.31, 0.572501372], [0.32, 0.331538655], [0.33, 0.585441289], [0.34, 1.052042671], [0.35, 1.326866905], [0.36, 1.533000885], [0.37, 1.708000982], [0.38, 1.858729622], [0.39, 1.99546181], [0.4, 2.122943979], [0.41, 2.241825593], [0.42, 2.357153749], [0.43, 2.465312026], [0.44, 2.573264334], [0.45, 2.675756988], [0.46, 2.776954709], [0.47, 2.873753418], [0.48, 2.972181544], [0.49, 3.066333564], [0.5, 3.159400537], [0.51, 3.251112238], [0.52, 3.342124392], [0.53, 3.433188197], [0.54, 3.522198723], [0.55, 3.610113564], [0.56, 3.69702325], [0.57, 3.783928323], [0.58, 3.870683674], [0.59, 3.95716995], [0.6, 4.041936139], [0.61, 4.126305805], [0.62, 4.208973975], [0.63, 4.293088795], [0.64, 4.376833034], [0.65, 4.460223332], [0.66, 4.543110205], [0.67, 4.623716431], [0.68, 4.705947265], [0.69, 4.788419629], [0.7, 4.869087149], [0.71, 4.950777375], [0.72, 5.034212441], [0.73, 5.113152956], [0.74, 5.195339803], [0.75, 5.274430173], [0.76, 5.356816832], [0.77, 5.436181889], [0.78, 5.512987191], [0.79, 5.598827647], [0.8, 5.678123783], [0.81, 5.753307975], [0.82, 5.836229489], [0.83, 5.911315405], [0.84, 5.99554442], [0.85, 6.076505494], [0.86, 6.15532052], [0.87, 6.235643492], [0.88, 6.313593878], [0.89, 6.38980549], [0.9, 6.469203512], [0.91, 6.547597195], [0.92, 6.627986589], [0.93, 6.706073147], [0.94, 6.784129005], [0.95, 6.865098469], [0.96, 6.942265476], [0.97, 7.024370281], [0.98, 7.10009014], [0.99, 7.177095875], [1.0, 7.254153877], [1.01, 7.335202151], [1.02, 7.410959562], [1.03, 7.488436383], [1.04, 7.571609934], [1.05, 7.647526521], [1.06, 7.738194503], [1.07, 7.812561387], [1.08, 7.896414166], [1.09, 7.969003336], [1.1, 8.055909518], [1.11, 8.13167776], [1.12, 8.207066199], [1.13, 8.287376091], [1.14, 8.352970185], [1.15, 8.445952676], [1.16, 8.521220138], [1.17, 8.593219381], [1.18, 8.675598669], [1.19, 8.74909525], [1.2, 8.829439534], [1.21, 8.901272181], [1.22, 8.982747689], [1.23, 9.065378059], [1.24, 9.1406656], [1.25, 9.224588583], [1.26, 9.306720371], [1.27, 9.373618039], [1.28, 9.450046198], [1.29, 9.532921219], [1.3, 9.60555539], [1.31, 9.681233817], [1.32, 9.760538693], [1.33, 9.83991532], [1.34, 9.919993743], [1.35, 9.983749508], [1.36, 10.07495951], [1.37, 10.1436877], [1.38, 10.21157789], [1.39, 10.30564062], [1.4, 10.37144097], [1.41, 10.45450997], [1.42, 10.54179489], [1.43, 10.61313733], [1.44, 10.69616257], [1.45, 10.76749347], [1.46, 10.84612819], [1.47, 10.9453006], [1.48, 10.99641868], [1.49, 11.08649889], [1.5, 11.16108366], [1.51, 11.21746697], [1.52, 11.30314965], [1.53, 11.41064575], [1.54, 11.45450115], [1.55, 11.56695676], [1.56, 11.59683531], [1.57, 11.70390524], [1.58, 11.76120196], [1.59, 11.85857043], [1.6, 11.89337172], [1.61, 12.00172973], [1.62, 12.10786655], [1.63, 12.14794191], [1.64, 12.23538043], [1.65, 12.29243876], [1.66, 12.38502172], [1.67, 12.45755606], [1.68, 12.56772686], [1.69, 12.63496123], [1.7, 12.70351978]]\n"
     ]
    }
   ],
   "source": [
    "print(mat.getCompleteExtinction())"
   ]
  },
  {
   "cell_type": "markdown",
   "metadata": {},
   "source": [
    "## Get n,k data as CSV"
   ]
  },
  {
   "cell_type": "code",
   "execution_count": 16,
   "metadata": {
    "collapsed": false
   },
   "outputs": [
    {
     "name": "stdout",
     "output_type": "stream",
     "text": [
      "Wrote mat1(nk).csv\n"
     ]
    }
   ],
   "source": [
    "mat.toCSV(output=\"mat1.csv\")"
   ]
  },
  {
   "cell_type": "markdown",
   "metadata": {},
   "source": [
    "## *Be careful*: Get ALL CSVs"
   ]
  },
  {
   "cell_type": "code",
   "execution_count": null,
   "metadata": {
    "collapsed": true
   },
   "outputs": [],
   "source": [
    "db.getAllMaterialCSV(outputfolder=\"all\")"
   ]
  }
 ],
 "metadata": {
  "kernelspec": {
   "display_name": "Python 3",
   "language": "python",
   "name": "python3"
  },
  "language_info": {
   "codemirror_mode": {
    "name": "ipython",
    "version": 3
   },
   "file_extension": ".py",
   "mimetype": "text/x-python",
   "name": "python",
   "nbconvert_exporter": "python",
   "pygments_lexer": "ipython3",
   "version": "3.5.1"
  }
 },
 "nbformat": 4,
 "nbformat_minor": 0
}
